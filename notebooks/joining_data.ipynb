{
 "cells": [
  {
   "cell_type": "code",
   "execution_count": 3,
   "metadata": {},
   "outputs": [],
   "source": [
    "# imports\n",
    "import requests\n",
    "import json\n",
    "import pandas as pd\n",
    "import numpy as np\n",
    "import os\n",
    "import matplotlib.pyplot as plt\n",
    "import seaborn as sns"
   ]
  },
  {
   "cell_type": "markdown",
   "metadata": {},
   "source": [
    "Join the data from Part 1 with the data from Part 2 to create a new dataframe."
   ]
  },
  {
   "cell_type": "code",
   "execution_count": 4,
   "metadata": {},
   "outputs": [],
   "source": [
    "# load bike stations data from available_bikes.csv\n",
    "bike_stations = pd.read_csv('..\\\\data\\\\available_bikes.csv')\n",
    "\n",
    "# load Foursquare POI data from FS_nearby_POIs.csv\n",
    "FS_nearby_POIs = pd.read_csv('..\\\\data\\\\FS_nearby_POIs.csv')\n",
    "\n",
    "# load Yelp POI data from Yelp_nearby_POIs.csv\n",
    "Yelp_nearby_POIs = pd.read_csv('..\\\\data\\\\Yelp_nearby_POIs.csv')"
   ]
  },
  {
   "cell_type": "markdown",
   "metadata": {},
   "source": [
    "Provide a visualization that you used as part of your EDA process. Explain the initial pattern or relationship you discoved through this visualization. "
   ]
  },
  {
   "cell_type": "code",
   "execution_count": 11,
   "metadata": {},
   "outputs": [
    {
     "data": {
      "text/html": [
       "<div>\n",
       "<style scoped>\n",
       "    .dataframe tbody tr th:only-of-type {\n",
       "        vertical-align: middle;\n",
       "    }\n",
       "\n",
       "    .dataframe tbody tr th {\n",
       "        vertical-align: top;\n",
       "    }\n",
       "\n",
       "    .dataframe thead th {\n",
       "        text-align: right;\n",
       "    }\n",
       "</style>\n",
       "<table border=\"1\" class=\"dataframe\">\n",
       "  <thead>\n",
       "    <tr style=\"text-align: right;\">\n",
       "      <th></th>\n",
       "      <th>station_id</th>\n",
       "      <th>name</th>\n",
       "      <th>lon</th>\n",
       "      <th>lat</th>\n",
       "      <th>address</th>\n",
       "      <th>num_bikes_available</th>\n",
       "      <th>num_bikes_disabled</th>\n",
       "      <th>last_reported</th>\n",
       "    </tr>\n",
       "  </thead>\n",
       "  <tbody>\n",
       "    <tr>\n",
       "      <th>0</th>\n",
       "      <td>hub_540</td>\n",
       "      <td>Sanders at Hollywood</td>\n",
       "      <td>-79.926481</td>\n",
       "      <td>43.259903</td>\n",
       "      <td>26, Sanders Boulevard, University Gardens, Ham...</td>\n",
       "      <td>27</td>\n",
       "      <td>0</td>\n",
       "      <td>2024-03-09 15:06:26</td>\n",
       "    </tr>\n",
       "    <tr>\n",
       "      <th>1</th>\n",
       "      <td>hub_545</td>\n",
       "      <td>Emerson at Whitney</td>\n",
       "      <td>-79.922216</td>\n",
       "      <td>43.252142</td>\n",
       "      <td>202, Emerson Street, University Gardens, Hamil...</td>\n",
       "      <td>16</td>\n",
       "      <td>0</td>\n",
       "      <td>2024-03-09 15:06:26</td>\n",
       "    </tr>\n",
       "    <tr>\n",
       "      <th>2</th>\n",
       "      <td>hub_557</td>\n",
       "      <td>Dundurn at Aberdeen</td>\n",
       "      <td>-79.892656</td>\n",
       "      <td>43.251458</td>\n",
       "      <td>330-346 Dundurn Street South, Hamilton</td>\n",
       "      <td>13</td>\n",
       "      <td>0</td>\n",
       "      <td>2024-03-09 15:06:26</td>\n",
       "    </tr>\n",
       "    <tr>\n",
       "      <th>3</th>\n",
       "      <td>hub_571</td>\n",
       "      <td>Oxford at York</td>\n",
       "      <td>-79.877794</td>\n",
       "      <td>43.264564</td>\n",
       "      <td>40-48 Oxford Street, Hamilton</td>\n",
       "      <td>13</td>\n",
       "      <td>0</td>\n",
       "      <td>2024-03-09 15:06:26</td>\n",
       "    </tr>\n",
       "    <tr>\n",
       "      <th>4</th>\n",
       "      <td>hub_554</td>\n",
       "      <td>Macklin at King</td>\n",
       "      <td>-79.896498</td>\n",
       "      <td>43.262167</td>\n",
       "      <td>768, King Street West, McMaster Innovation Par...</td>\n",
       "      <td>12</td>\n",
       "      <td>0</td>\n",
       "      <td>2024-03-09 15:06:26</td>\n",
       "    </tr>\n",
       "    <tr>\n",
       "      <th>...</th>\n",
       "      <td>...</td>\n",
       "      <td>...</td>\n",
       "      <td>...</td>\n",
       "      <td>...</td>\n",
       "      <td>...</td>\n",
       "      <td>...</td>\n",
       "      <td>...</td>\n",
       "      <td>...</td>\n",
       "    </tr>\n",
       "    <tr>\n",
       "      <th>133</th>\n",
       "      <td>hub_605</td>\n",
       "      <td>Wentworth at King</td>\n",
       "      <td>-79.849104</td>\n",
       "      <td>43.251990</td>\n",
       "      <td>16 Wentworth Street South, Hamilton</td>\n",
       "      <td>1</td>\n",
       "      <td>0</td>\n",
       "      <td>2024-03-09 15:06:26</td>\n",
       "    </tr>\n",
       "    <tr>\n",
       "      <th>134</th>\n",
       "      <td>hub_5838</td>\n",
       "      <td>King at Sanford</td>\n",
       "      <td>-79.846358</td>\n",
       "      <td>43.251884</td>\n",
       "      <td>735, King Street East, Hamilton, Ontario</td>\n",
       "      <td>1</td>\n",
       "      <td>0</td>\n",
       "      <td>2024-03-09 15:06:26</td>\n",
       "    </tr>\n",
       "    <tr>\n",
       "      <th>135</th>\n",
       "      <td>hub_894</td>\n",
       "      <td>Forsyth at Sterling</td>\n",
       "      <td>-79.915806</td>\n",
       "      <td>43.262714</td>\n",
       "      <td>88 Forsyth Avenue North, Hamilton</td>\n",
       "      <td>1</td>\n",
       "      <td>0</td>\n",
       "      <td>2024-03-09 15:06:26</td>\n",
       "    </tr>\n",
       "    <tr>\n",
       "      <th>136</th>\n",
       "      <td>hub_5846</td>\n",
       "      <td>Cannon at Steven</td>\n",
       "      <td>-79.849981</td>\n",
       "      <td>43.256461</td>\n",
       "      <td>400-408 Cannon Street East, Hamilton</td>\n",
       "      <td>1</td>\n",
       "      <td>0</td>\n",
       "      <td>2024-03-09 15:06:26</td>\n",
       "    </tr>\n",
       "    <tr>\n",
       "      <th>137</th>\n",
       "      <td>hub_539</td>\n",
       "      <td>Sanders at Binkley</td>\n",
       "      <td>-79.929799</td>\n",
       "      <td>43.258754</td>\n",
       "      <td>58, Sanders Boulevard, University Gardens, Ham...</td>\n",
       "      <td>1</td>\n",
       "      <td>0</td>\n",
       "      <td>2024-03-09 15:06:26</td>\n",
       "    </tr>\n",
       "  </tbody>\n",
       "</table>\n",
       "<p>138 rows × 8 columns</p>\n",
       "</div>"
      ],
      "text/plain": [
       "    station_id                  name        lon        lat  \\\n",
       "0      hub_540  Sanders at Hollywood -79.926481  43.259903   \n",
       "1      hub_545    Emerson at Whitney -79.922216  43.252142   \n",
       "2      hub_557   Dundurn at Aberdeen -79.892656  43.251458   \n",
       "3      hub_571        Oxford at York -79.877794  43.264564   \n",
       "4      hub_554       Macklin at King -79.896498  43.262167   \n",
       "..         ...                   ...        ...        ...   \n",
       "133    hub_605     Wentworth at King -79.849104  43.251990   \n",
       "134   hub_5838       King at Sanford -79.846358  43.251884   \n",
       "135    hub_894   Forsyth at Sterling -79.915806  43.262714   \n",
       "136   hub_5846      Cannon at Steven -79.849981  43.256461   \n",
       "137    hub_539    Sanders at Binkley -79.929799  43.258754   \n",
       "\n",
       "                                               address  num_bikes_available  \\\n",
       "0    26, Sanders Boulevard, University Gardens, Ham...                   27   \n",
       "1    202, Emerson Street, University Gardens, Hamil...                   16   \n",
       "2               330-346 Dundurn Street South, Hamilton                   13   \n",
       "3                        40-48 Oxford Street, Hamilton                   13   \n",
       "4    768, King Street West, McMaster Innovation Par...                   12   \n",
       "..                                                 ...                  ...   \n",
       "133                16 Wentworth Street South, Hamilton                    1   \n",
       "134           735, King Street East, Hamilton, Ontario                    1   \n",
       "135                  88 Forsyth Avenue North, Hamilton                    1   \n",
       "136               400-408 Cannon Street East, Hamilton                    1   \n",
       "137  58, Sanders Boulevard, University Gardens, Ham...                    1   \n",
       "\n",
       "     num_bikes_disabled        last_reported  \n",
       "0                     0  2024-03-09 15:06:26  \n",
       "1                     0  2024-03-09 15:06:26  \n",
       "2                     0  2024-03-09 15:06:26  \n",
       "3                     0  2024-03-09 15:06:26  \n",
       "4                     0  2024-03-09 15:06:26  \n",
       "..                  ...                  ...  \n",
       "133                   0  2024-03-09 15:06:26  \n",
       "134                   0  2024-03-09 15:06:26  \n",
       "135                   0  2024-03-09 15:06:26  \n",
       "136                   0  2024-03-09 15:06:26  \n",
       "137                   0  2024-03-09 15:06:26  \n",
       "\n",
       "[138 rows x 8 columns]"
      ]
     },
     "execution_count": 11,
     "metadata": {},
     "output_type": "execute_result"
    }
   ],
   "source": [
    "bike_stations"
   ]
  },
  {
   "cell_type": "code",
   "execution_count": 13,
   "metadata": {},
   "outputs": [
    {
     "data": {
      "text/plain": [
       "station_id\n",
       "hub_540     10\n",
       "hub_599     10\n",
       "hub_2917    10\n",
       "hub_2918    10\n",
       "hub_712     10\n",
       "            ..\n",
       "hub_544     10\n",
       "hub_539     10\n",
       "hub_765      9\n",
       "hub_960      8\n",
       "hub_924      8\n",
       "Name: count, Length: 138, dtype: int64"
      ]
     },
     "execution_count": 13,
     "metadata": {},
     "output_type": "execute_result"
    }
   ],
   "source": [
    "# FS_nearby_POIs\n",
    "# count the frequency of each station_id\n",
    "FS_nearby_POIs['station_id'].value_counts()\n",
    "\n"
   ]
  },
  {
   "cell_type": "code",
   "execution_count": 14,
   "metadata": {},
   "outputs": [
    {
     "data": {
      "text/plain": [
       "station_id\n",
       "hub_540     20\n",
       "hub_612     20\n",
       "hub_2918    20\n",
       "hub_712     20\n",
       "hub_598     20\n",
       "            ..\n",
       "hub_924     13\n",
       "hub_583     12\n",
       "hub_5903    10\n",
       "hub_552      2\n",
       "hub_765      2\n",
       "Name: count, Length: 138, dtype: int64"
      ]
     },
     "execution_count": 14,
     "metadata": {},
     "output_type": "execute_result"
    }
   ],
   "source": [
    "Yelp_nearby_POIs\n",
    "# count the frequency of each station_id\n",
    "Yelp_nearby_POIs['station_id'].value_counts()\n"
   ]
  },
  {
   "cell_type": "markdown",
   "metadata": {},
   "source": [
    "# Database"
   ]
  },
  {
   "cell_type": "markdown",
   "metadata": {},
   "source": [
    "Put all your results in an SQLite3 database (remember, SQLite stores its databases as files in your local machine - make sure to create your database in your project's data/ directory!)"
   ]
  },
  {
   "cell_type": "code",
   "execution_count": null,
   "metadata": {},
   "outputs": [],
   "source": []
  },
  {
   "cell_type": "markdown",
   "metadata": {},
   "source": [
    "Look at the data before and after the join to validate your data."
   ]
  },
  {
   "cell_type": "code",
   "execution_count": null,
   "metadata": {},
   "outputs": [],
   "source": []
  }
 ],
 "metadata": {
  "kernelspec": {
   "display_name": "Python 3",
   "language": "python",
   "name": "python3"
  },
  "language_info": {
   "codemirror_mode": {
    "name": "ipython",
    "version": 3
   },
   "file_extension": ".py",
   "mimetype": "text/x-python",
   "name": "python",
   "nbconvert_exporter": "python",
   "pygments_lexer": "ipython3",
   "version": "3.11.5"
  }
 },
 "nbformat": 4,
 "nbformat_minor": 4
}
